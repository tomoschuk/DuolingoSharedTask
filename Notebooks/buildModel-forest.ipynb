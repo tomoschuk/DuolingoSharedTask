{
 "cells": [
  {
   "cell_type": "code",
   "execution_count": 53,
   "metadata": {
    "collapsed": true
   },
   "outputs": [],
   "source": [
    "#Add langs to string based on picked data\n",
    "langs = [x.lower() for x in ['Fr']]\n",
    "#Generate predictions for Dev?\n",
    "doDev = False\n",
    "#packages\n",
    "import pickle\n",
    "import numpy as np\n",
    "import pandas as pd\n",
    "from sklearn.ensemble import RandomForestClassifier\n",
    "rf = RandomForestClassifier(n_estimators=1000, oob_score=True)"
   ]
  },
  {
   "cell_type": "code",
   "execution_count": 54,
   "metadata": {},
   "outputs": [],
   "source": [
    "#read pickled data\n",
    "with open('../Data/DuoData_processed.pickle', 'rb') as handle:\n",
    "    data = pickle.load(handle)"
   ]
  },
  {
   "cell_type": "code",
   "execution_count": 55,
   "metadata": {
    "collapsed": true,
    "scrolled": true
   },
   "outputs": [],
   "source": [
    "#build model function\n",
    "def createModel(td):\n",
    "    td = td.drop(['Unnamed: 0','WordFreq','?','?Pho','?EngPho'], axis = 1) #Always drop these unwanted columns\n",
    "    continuousCols = list(td.select_dtypes(include=[np.number]))\n",
    "    X_con = td[continuousCols] # Remove categorical values for now\n",
    "    td = pd.concat([X_con,td[['source','instanceID']]], axis = 1,join_axes=[X_con.index])\n",
    "    Xtrain = td[td['source'] != 'test'].drop(['source','instanceID'], axis = 1) # remove test data\n",
    "\n",
    "    \n",
    "    ytrain = Xtrain['error'] \n",
    "    Xtrain = Xtrain.drop(['error'], axis = 1)\n",
    "    Xtrain = Xtrain.fillna(0)\n",
    "    print('Training logistic regression...')\n",
    "    rf.fit(Xtrain, ytrain)\n",
    "     \n",
    "    print('Generating predictions...')\n",
    "    Xtest = td[td['source'] == 'test'].drop(['source'], axis = 1)\n",
    "    Xtest = Xtest.fillna(0)\n",
    "    Xtest = Xtest.drop(['error'],axis=1)\n",
    "    Xtest['preds'] = [x[1] for x in rf.predict_proba(Xtest.drop(['instanceID'],axis = 1))]\n",
    "    print('Done generating predictions!')\n",
    "    return Xtest[['instanceID','preds']]"
   ]
  },
  {
   "cell_type": "code",
   "execution_count": 56,
   "metadata": {
    "collapsed": true
   },
   "outputs": [],
   "source": [
    "#build Dev model function\n",
    "def createDevModel(td):\n",
    "\n",
    "    td = td.drop(['Unnamed: 0','WordFreq','?','?Pho','?EngPho'], axis = 1) #Always drop these unwanted rows\n",
    "    continuousCols = list(td.select_dtypes(include=[np.number]))\n",
    "    X_con = td[continuousCols] # Remove categorical values for now\n",
    "    td = pd.concat([X_con,td[['source','instanceID']]], axis = 1,join_axes=[X_con.index])\n",
    "    Xtrain = td[td['source'] == 'train'].drop(['source','instanceID'], axis = 1) # remove test data\n",
    "\n",
    "    \n",
    "    ytrain = Xtrain['error'] \n",
    "    Xtrain = Xtrain.drop(['error'], axis = 1)\n",
    "    Xtrain = Xtrain.fillna(0)\n",
    "    print('Training logistic regression...')\n",
    "    rf.fit(Xtrain, ytrain)\n",
    "    \n",
    "    print('Generating predictions...')\n",
    "    Xtest = td[td['source'] == 'dev'].drop(['source'], axis = 1)\n",
    "    Xtest = Xtest.fillna(0)\n",
    "    Xtest = Xtest.drop(['error'],axis=1)\n",
    "    Xtest['preds'] = [x[1] for x in rf.predict_proba(Xtest.drop(['instanceID'],axis = 1))]\n",
    "    print('Done generating predictions!')\n",
    "    return Xtest[['instanceID','preds']]"
   ]
  },
  {
   "cell_type": "code",
   "execution_count": 57,
   "metadata": {
    "scrolled": true
   },
   "outputs": [
    {
     "name": "stdout",
     "output_type": "stream",
     "text": [
      "Training logistic regression...\n",
      "Generating predictions...\n",
      "Done generating predictions!\n"
     ]
    }
   ],
   "source": [
    "if doDev == False:\n",
    "    for l2 in langs:\n",
    "        data[l2+'_preds'] = createModel(data[l2+'_df'])"
   ]
  },
  {
   "cell_type": "code",
   "execution_count": 58,
   "metadata": {
    "collapsed": true
   },
   "outputs": [],
   "source": [
    "if doDev == True:\n",
    "    for l2 in langs:\n",
    "        data[l2+'_preds'] = createDevModel(data[l2+'_df'])"
   ]
  },
  {
   "cell_type": "code",
   "execution_count": 59,
   "metadata": {
    "collapsed": true
   },
   "outputs": [],
   "source": [
    "if doDev == False: \n",
    "    data[l2+'_preds'].to_csv('../Data/'+l2+'.txt', header=None, index=None, sep=' ')\n",
    "elif doDev == True:\n",
    "    data[l2+'_preds'].to_csv('../Data/'+l2+'_dev.txt', header=None, index=None, sep=' ')"
   ]
  }
 ],
 "metadata": {
  "anaconda-cloud": {},
  "kernelspec": {
   "display_name": "Python 3",
   "language": "python",
   "name": "python3"
  },
  "language_info": {
   "codemirror_mode": {
    "name": "ipython",
    "version": 3
   },
   "file_extension": ".py",
   "mimetype": "text/x-python",
   "name": "python",
   "nbconvert_exporter": "python",
   "pygments_lexer": "ipython3",
   "version": "3.6.0"
  },
  "varInspector": {
   "cols": {
    "lenName": 16,
    "lenType": 16,
    "lenVar": 40
   },
   "kernels_config": {
    "python": {
     "delete_cmd_postfix": "",
     "delete_cmd_prefix": "del ",
     "library": "var_list.py",
     "varRefreshCmd": "print(var_dic_list())"
    },
    "r": {
     "delete_cmd_postfix": ") ",
     "delete_cmd_prefix": "rm(",
     "library": "var_list.r",
     "varRefreshCmd": "cat(var_dic_list()) "
    }
   },
   "types_to_exclude": [
    "module",
    "function",
    "builtin_function_or_method",
    "instance",
    "_Feature"
   ],
   "window_display": false
  }
 },
 "nbformat": 4,
 "nbformat_minor": 1
}
